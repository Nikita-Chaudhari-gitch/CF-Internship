{
 "cells": [
  {
   "cell_type": "code",
   "execution_count": 1,
   "metadata": {},
   "outputs": [
    {
     "name": "stdout",
     "output_type": "stream",
     "text": [
      "Enter Student Name:Nikita\n"
     ]
    }
   ],
   "source": [
    "name=input(\"Enter Student Name:\")\n"
   ]
  },
  {
   "cell_type": "code",
   "execution_count": 2,
   "metadata": {},
   "outputs": [
    {
     "name": "stdout",
     "output_type": "stream",
     "text": [
      "Nikita\n"
     ]
    }
   ],
   "source": [
    "print(name)"
   ]
  },
  {
   "cell_type": "code",
   "execution_count": 14,
   "metadata": {},
   "outputs": [
    {
     "name": "stdout",
     "output_type": "stream",
     "text": [
      "Enter Student Standard : 12\n",
      "Enter Student Division : A\n"
     ]
    }
   ],
   "source": [
    "std=input(\"Enter Stud\n",
    "          ent Standard : \")\n",
    "div=str(input(\"Enter Student Division : \"))"
   ]
  },
  {
   "cell_type": "code",
   "execution_count": 16,
   "metadata": {},
   "outputs": [
    {
     "name": "stdout",
     "output_type": "stream",
     "text": [
      "Enter marks for Maths : 76\n",
      "Enter marks for Physics : 78\n",
      "Enter marks for Chemistry : 79\n"
     ]
    }
   ],
   "source": [
    "sub1=int(input(\"Enter marks for Maths : \"))\n",
    "sub2=int(input(\"Enter marks for Physics : \"))\n",
    "sub3=int(input(\"Enter marks for Chemistry : \"))\n",
    "total=sub1+sub2+sub3;\n",
    "avg=total/3;\n"
   ]
  },
  {
   "cell_type": "code",
   "execution_count": 17,
   "metadata": {},
   "outputs": [
    {
     "name": "stdout",
     "output_type": "stream",
     "text": [
      "Name of student : Nikita\n",
      "Standard : 12\n",
      "DIvision : A\n",
      "Marks of Maths : 76\n",
      "Marks of Physics : 78\n",
      "Marks of Chemistry : 79\n",
      "Total Marks : 233\n",
      "Percentage : 77.66666666666667\n"
     ]
    }
   ],
   "source": [
    "print(\"Name of student :\",name);\n",
    "print(\"Standard :\",std);\n",
    "print(\"DIvision :\",div);\n",
    "print(\"Marks of Maths :\",sub1);\n",
    "print(\"Marks of Physics :\",sub2);\n",
    "print(\"Marks of Chemistry :\",sub3);\n",
    "print(\"Total Marks :\",total);\n",
    "print(\"Percentage :\",avg);"
   ]
  },
  {
   "cell_type": "code",
   "execution_count": null,
   "metadata": {},
   "outputs": [],
   "source": []
  }
 ],
 "metadata": {
  "kernelspec": {
   "display_name": "Python 3",
   "language": "python",
   "name": "python3"
  },
  "language_info": {
   "codemirror_mode": {
    "name": "ipython",
    "version": 3
   },
   "file_extension": ".py",
   "mimetype": "text/x-python",
   "name": "python",
   "nbconvert_exporter": "python",
   "pygments_lexer": "ipython3",
   "version": "3.7.6"
  }
 },
 "nbformat": 4,
 "nbformat_minor": 4
}
